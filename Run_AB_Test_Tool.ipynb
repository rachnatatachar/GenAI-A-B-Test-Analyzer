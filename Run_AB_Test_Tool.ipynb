{
 "cells": [
  {
   "cell_type": "code",
   "execution_count": 6,
   "id": "a17349f7-8075-4d69-8b62-d21b7e7266be",
   "metadata": {},
   "outputs": [
    {
     "name": "stdout",
     "output_type": "stream",
     "text": [
      "Collecting matplotlib\n",
      "  Downloading matplotlib-3.10.3-cp313-cp313-macosx_11_0_arm64.whl.metadata (11 kB)\n",
      "Collecting contourpy>=1.0.1 (from matplotlib)\n",
      "  Downloading contourpy-1.3.2-cp313-cp313-macosx_11_0_arm64.whl.metadata (5.5 kB)\n",
      "Collecting cycler>=0.10 (from matplotlib)\n",
      "  Downloading cycler-0.12.1-py3-none-any.whl.metadata (3.8 kB)\n",
      "Collecting fonttools>=4.22.0 (from matplotlib)\n",
      "  Downloading fonttools-4.58.1-cp313-cp313-macosx_10_13_universal2.whl.metadata (106 kB)\n",
      "Collecting kiwisolver>=1.3.1 (from matplotlib)\n",
      "  Downloading kiwisolver-1.4.8-cp313-cp313-macosx_11_0_arm64.whl.metadata (6.2 kB)\n",
      "Requirement already satisfied: numpy>=1.23 in /Library/Frameworks/Python.framework/Versions/3.13/lib/python3.13/site-packages (from matplotlib) (2.2.5)\n",
      "Requirement already satisfied: packaging>=20.0 in /Library/Frameworks/Python.framework/Versions/3.13/lib/python3.13/site-packages (from matplotlib) (25.0)\n",
      "Collecting pillow>=8 (from matplotlib)\n",
      "  Downloading pillow-11.2.1-cp313-cp313-macosx_11_0_arm64.whl.metadata (8.9 kB)\n",
      "Collecting pyparsing>=2.3.1 (from matplotlib)\n",
      "  Downloading pyparsing-3.2.3-py3-none-any.whl.metadata (5.0 kB)\n",
      "Requirement already satisfied: python-dateutil>=2.7 in /Library/Frameworks/Python.framework/Versions/3.13/lib/python3.13/site-packages (from matplotlib) (2.9.0.post0)\n",
      "Requirement already satisfied: six>=1.5 in /Library/Frameworks/Python.framework/Versions/3.13/lib/python3.13/site-packages (from python-dateutil>=2.7->matplotlib) (1.17.0)\n",
      "Downloading matplotlib-3.10.3-cp313-cp313-macosx_11_0_arm64.whl (8.1 MB)\n",
      "\u001b[2K   \u001b[90m━━━━━━━━━━━━━━━━━━━━━━━━━━━━━━━━━━━━━━━━\u001b[0m \u001b[32m8.1/8.1 MB\u001b[0m \u001b[31m52.0 MB/s\u001b[0m eta \u001b[36m0:00:00\u001b[0m\n",
      "\u001b[?25hDownloading contourpy-1.3.2-cp313-cp313-macosx_11_0_arm64.whl (255 kB)\n",
      "Downloading cycler-0.12.1-py3-none-any.whl (8.3 kB)\n",
      "Downloading fonttools-4.58.1-cp313-cp313-macosx_10_13_universal2.whl (2.7 MB)\n",
      "\u001b[2K   \u001b[90m━━━━━━━━━━━━━━━━━━━━━━━━━━━━━━━━━━━━━━━━\u001b[0m \u001b[32m2.7/2.7 MB\u001b[0m \u001b[31m41.0 MB/s\u001b[0m eta \u001b[36m0:00:00\u001b[0m\n",
      "\u001b[?25hDownloading kiwisolver-1.4.8-cp313-cp313-macosx_11_0_arm64.whl (65 kB)\n",
      "Downloading pillow-11.2.1-cp313-cp313-macosx_11_0_arm64.whl (3.0 MB)\n",
      "\u001b[2K   \u001b[90m━━━━━━━━━━━━━━━━━━━━━━━━━━━━━━━━━━━━━━━━\u001b[0m \u001b[32m3.0/3.0 MB\u001b[0m \u001b[31m39.9 MB/s\u001b[0m eta \u001b[36m0:00:00\u001b[0m\n",
      "\u001b[?25hDownloading pyparsing-3.2.3-py3-none-any.whl (111 kB)\n",
      "Installing collected packages: pyparsing, pillow, kiwisolver, fonttools, cycler, contourpy, matplotlib\n",
      "\u001b[2K   \u001b[90m━━━━━━━━━━━━━━━━━━━━━━━━━━━━━━━━━━━━━━━━\u001b[0m \u001b[32m7/7\u001b[0m [matplotlib]7\u001b[0m [matplotlib]\n",
      "\u001b[1A\u001b[2KSuccessfully installed contourpy-1.3.2 cycler-0.12.1 fonttools-4.58.1 kiwisolver-1.4.8 matplotlib-3.10.3 pillow-11.2.1 pyparsing-3.2.3\n"
     ]
    }
   ],
   "source": [
    "!pip install matplotlib"
   ]
  },
  {
   "cell_type": "code",
   "execution_count": 7,
   "id": "f458f3b1-f605-46ee-b767-c3ef1dd49a55",
   "metadata": {},
   "outputs": [],
   "source": [
    "import pandas as pd\n",
    "import matplotlib.pyplot as plt\n",
    "from scipy.stats import ttest_ind"
   ]
  },
  {
   "cell_type": "code",
   "execution_count": 8,
   "id": "7418552b-9557-495b-9f2e-af0ad814a44c",
   "metadata": {},
   "outputs": [],
   "source": [
    "REQUIRED_COLUMNS = ['user_id', 'variant', 'conversion', 'platform', 'region', 'timestamp']"
   ]
  },
  {
   "cell_type": "code",
   "execution_count": 14,
   "id": "2bf42ec2-7934-4a67-bec8-9ca87f17a40e",
   "metadata": {},
   "outputs": [],
   "source": [
    "def validate_ab_test_data(df):\n",
    "    missing_cols = [col for col in REQUIRED_COLUMNS if col not in df.columns]\n",
    "    if missing_cols:\n",
    "        return False, f\"Missing required columns: {', '.join(missing_cols)}\"\n",
    "    return True, \"Data is valid\"\n",
    "\n",
    "def run_ab_test(df, variant_col='variant', metric_col='conversion'):\n",
    "    if df[variant_col].nunique() != 2:\n",
    "        return {\"error\": \"This function supports only two variants (A/B).\"}\n",
    "\n",
    "    group_a = df[df[variant_col] == 'A'][metric_col]\n",
    "    group_b = df[df[variant_col] == 'B'][metric_col]\n",
    "\n",
    "    t_stat, p_value = ttest_ind(group_a, group_b, equal_var=False)\n",
    "\n",
    "    return {\n",
    "        \"variant_a_mean\": round(group_a.mean() * 100, 2),\n",
    "        \"variant_b_mean\": round(group_b.mean() * 100, 2),\n",
    "        \"p_value\": round(p_value, 4),\n",
    "        \"significant\": p_value < 0.05\n",
    "    }\n",
    "\n",
    "def generate_summary(result):\n",
    "    if \"error\" in result:\n",
    "        return result[\"error\"]\n",
    "\n",
    "    a_mean = result['variant_a_mean']\n",
    "    b_mean = result['variant_b_mean']\n",
    "    p_value = result['p_value']\n",
    "    significant = result['significant']\n",
    "\n",
    "    summary = (\n",
    "        f\"Variant A had a conversion rate of {a_mean}%. \"\n",
    "        f\"Variant B had a conversion rate of {b_mean}%. \"\n",
    "    )\n",
    "\n",
    "    if significant:\n",
    "        summary += (\n",
    "            f\"This difference is statistically significant at the 95% confidence level \"\n",
    "            f\"(p = {p_value}).\\n\\n\"\n",
    "        )\n",
    "        if b_mean > a_mean:\n",
    "            summary += \"✅ Recommendation: Variant B is better based on the test results.\\n\"\n",
    "        else:\n",
    "            summary += \"✅ Recommendation: Variant A is better based on the test results.\\n\"\n",
    "    else:\n",
    "        summary += (\n",
    "            f\"This difference is not statistically significant at the 95% confidence level \"\n",
    "            f\"(p = {p_value}).\\n\"\n",
    "        )\n",
    "        summary += \"⚠️ No clear winner: We recommend collecting more data or refining your test.\"\n",
    "\n",
    "    return summary\n"
   ]
  },
  {
   "cell_type": "code",
   "execution_count": 10,
   "id": "3a00c0a0-f168-4e85-8ef2-9817ef3ccdc1",
   "metadata": {},
   "outputs": [],
   "source": [
    "def plot_conversion_rates(df, result):\n",
    "    a_mean = result['variant_a_mean']\n",
    "    b_mean = result['variant_b_mean']\n",
    "\n",
    "    fig, ax = plt.subplots(figsize=(6, 4))\n",
    "    variants = ['Variant A', 'Variant B']\n",
    "    values = [a_mean, b_mean]\n",
    "    bars = ax.bar(variants, values, color=['#4caf50', '#2196f3'])\n",
    "\n",
    "    for bar in bars:\n",
    "        height = bar.get_height()\n",
    "        ax.annotate(f'{height:.2f}%', xy=(bar.get_x() + bar.get_width() / 2, height),\n",
    "                    xytext=(0, 5), textcoords=\"offset points\", ha='center', fontsize=10)\n",
    "\n",
    "    ax.set_title(\"Conversion Rate Comparison\")\n",
    "    ax.set_ylabel(\"Conversion Rate (%)\")\n",
    "\n",
    "    if result.get(\"significant\", False):\n",
    "        subtitle = f\"Statistically significant (p = {result['p_value']})\"\n",
    "    else:\n",
    "        subtitle = f\"Not statistically significant (p = {result['p_value']})\"\n",
    "\n",
    "    plt.suptitle(subtitle, fontsize=10, y=0.92)\n",
    "    plt.tight_layout()\n",
    "    plt.show()\n"
   ]
  },
  {
   "cell_type": "code",
   "execution_count": 15,
   "id": "80460663-7ee6-4008-8266-2f1511a36076",
   "metadata": {},
   "outputs": [
    {
     "name": "stdout",
     "output_type": "stream",
     "text": [
      "🧪 Validation: Data is valid\n",
      "\n",
      "📊 A/B Test Summary:\n",
      " Variant A had a conversion rate of 11.2%. Variant B had a conversion rate of 18.8%. This difference is statistically significant at the 95% confidence level (p = 0.0173).\n",
      "\n",
      "✅ Recommendation: Variant B is better based on the test results.\n",
      "\n"
     ]
    },
    {
     "data": {
      "image/png": "[encoded data removed]",
      "text/plain": [
       "<Figure size 600x400 with 1 Axes>"
      ]
     },
     "metadata": {},
     "output_type": "display_data"
    }
   ],
   "source": [
    "# ✅ Load and test\n",
    "df = pd.read_csv(\"data/sample_ab_test.csv\")  # Adjust path if needed\n",
    "valid, message = validate_ab_test_data(df)\n",
    "print(\"🧪 Validation:\", message)\n",
    "\n",
    "if valid:\n",
    "    result = run_ab_test(df)\n",
    "    summary = generate_summary(result)\n",
    "    print(\"\\n📊 A/B Test Summary:\\n\", summary)\n",
    "    plot_conversion_rates(df, result)\n"
   ]
  },
  {
   "cell_type": "code",
   "execution_count": null,
   "id": "9f22f2d0-a3f9-4412-a9f5-d11c20eb7f7e",
   "metadata": {},
   "outputs": [],
   "source": []
  }
 ],
 "metadata": {
  "kernelspec": {
   "display_name": "Python 3 (ipykernel)",
   "language": "python",
   "name": "python3"
  },
  "language_info": {
   "codemirror_mode": {
    "name": "ipython",
    "version": 3
   },
   "file_extension": ".py",
   "mimetype": "text/x-python",
   "name": "python",
   "nbconvert_exporter": "python",
   "pygments_lexer": "ipython3",
   "version": "3.13.3"
  }
 },
 "nbformat": 4,
 "nbformat_minor": 5
}
